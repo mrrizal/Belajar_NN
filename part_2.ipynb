{
 "cells": [
  {
   "cell_type": "code",
   "execution_count": 62,
   "metadata": {},
   "outputs": [],
   "source": [
    "import numpy as np\n",
    "from math import sqrt\n",
    "from math import pow"
   ]
  },
  {
   "cell_type": "code",
   "execution_count": 73,
   "metadata": {},
   "outputs": [],
   "source": [
    "def forwardPass(inputs, weight, bias, activation='linear'):\n",
    "    w_sum = np.dot(inputs, weight) + bias\n",
    "    \n",
    "    if activation == 'relu':\n",
    "        act = np.maximum(w_sum, 0)\n",
    "    elif activation == 'linear':\n",
    "        act = w_sum\n",
    "        \n",
    "    return act\n",
    "\n",
    "def hitung_nilai_asli(inputs):\n",
    "    result = []\n",
    "    for i in inputs:\n",
    "        result.append(sqrt((2*pow(i,2))+1))\n",
    "    return result"
   ]
  },
  {
   "cell_type": "code",
   "execution_count": 74,
   "metadata": {},
   "outputs": [],
   "source": [
    "# Pre-Trained Weights & Biases after Training\n",
    "# weight dan bias untuk hidden layer, ada 8. artinya neuron pada hidden layer1, ada 8 node\n",
    "W_H = np.array([[0.00192761, -0.78845304, 0.30310717, 0.44131625, 0.32792646, -0.02451803, 1.43445349, -1.12972116]])\n",
    "b_H = np.array([-0.02657719, -1.15885878, -0.79183501, -0.33550513, -0.23438406, -0.25078532, 0.22305705, 0.80253315])"
   ]
  },
  {
   "cell_type": "code",
   "execution_count": 75,
   "metadata": {},
   "outputs": [],
   "source": [
    "# weight dan bias untuk output layer, 1 node\n",
    "W_o = np.array([[-0.77540326], [ 0.5030424 ], [ 0.37374797], [-0.20287184], [-0.35956827], [-0.54576212], [ 1.04326093], [ 0.8857621 ]])\n",
    "b_o = np.array([ 0.04351173])"
   ]
  },
  {
   "cell_type": "code",
   "execution_count": 76,
   "metadata": {},
   "outputs": [],
   "source": [
    "# Initialize Input Data\n",
    "inputs = np.array([[-2], [0], [2]])"
   ]
  },
  {
   "cell_type": "code",
   "execution_count": 77,
   "metadata": {},
   "outputs": [],
   "source": [
    "# masukan input ke dalam layer pertama (ada 8 node)\n",
    "h_out = forwardPass(inputs, W_H, b_H, 'relu')"
   ]
  },
  {
   "cell_type": "code",
   "execution_count": 78,
   "metadata": {},
   "outputs": [
    {
     "data": {
      "text/plain": [
       "array([[ 0.        ,  0.4180473 ,  0.        ,  0.        ,  0.        ,\n",
       "         0.        ,  0.        ,  3.06197547],\n",
       "       [ 0.        ,  0.        ,  0.        ,  0.        ,  0.        ,\n",
       "         0.        ,  0.22305705,  0.80253315],\n",
       "       [ 0.        ,  0.        ,  0.        ,  0.54712737,  0.42146886,\n",
       "         0.        ,  3.09196403,  0.        ]])"
      ]
     },
     "execution_count": 78,
     "metadata": {},
     "output_type": "execute_result"
    }
   ],
   "source": [
    "h_out"
   ]
  },
  {
   "cell_type": "code",
   "execution_count": 79,
   "metadata": {},
   "outputs": [],
   "source": [
    "# hasil dari layer pertama tersebut di masukan ke dalam output layer (1 node)\n",
    "output = forwardPass(h_out, W_o, b_o, 'linear')"
   ]
  },
  {
   "cell_type": "code",
   "execution_count": 80,
   "metadata": {},
   "outputs": [
    {
     "data": {
      "text/plain": [
       "array([[ 2.96598907],\n",
       "       [ 0.98707188],\n",
       "       [ 3.00669343]])"
      ]
     },
     "execution_count": 80,
     "metadata": {},
     "output_type": "execute_result"
    }
   ],
   "source": [
    "output"
   ]
  },
  {
   "cell_type": "code",
   "execution_count": 81,
   "metadata": {},
   "outputs": [],
   "source": [
    "nilai_asli = hitung_nilai_asli([-2,0,2])"
   ]
  },
  {
   "cell_type": "code",
   "execution_count": 82,
   "metadata": {},
   "outputs": [
    {
     "data": {
      "text/plain": [
       "[3.0, 1.0, 3.0]"
      ]
     },
     "execution_count": 82,
     "metadata": {},
     "output_type": "execute_result"
    }
   ],
   "source": [
    "nilai_asli"
   ]
  }
 ],
 "metadata": {
  "kernelspec": {
   "display_name": "Python 3",
   "language": "python",
   "name": "python3"
  },
  "language_info": {
   "codemirror_mode": {
    "name": "ipython",
    "version": 3
   },
   "file_extension": ".py",
   "mimetype": "text/x-python",
   "name": "python",
   "nbconvert_exporter": "python",
   "pygments_lexer": "ipython3",
   "version": "3.6.5"
  }
 },
 "nbformat": 4,
 "nbformat_minor": 2
}
