{
 "cells": [
  {
   "cell_type": "code",
   "execution_count": 238,
   "metadata": {},
   "outputs": [],
   "source": [
    "import numpy as np"
   ]
  },
  {
   "cell_type": "code",
   "execution_count": 239,
   "metadata": {},
   "outputs": [],
   "source": [
    "def dot_product(x, w, b):\n",
    "    return np.dot(x, w) + b"
   ]
  },
  {
   "cell_type": "code",
   "execution_count": 240,
   "metadata": {},
   "outputs": [],
   "source": [
    "def relu(x):\n",
    "    return np.maximum(0, x)\n",
    "\n",
    "def relu_derivatives(x):\n",
    "    x[x<=0] = 0\n",
    "    x[x>0] = 1\n",
    "    return x"
   ]
  },
  {
   "cell_type": "code",
   "execution_count": 241,
   "metadata": {},
   "outputs": [],
   "source": [
    "def sigmoid(x):\n",
    "    return 1 / (1 + np.exp(-x))\n",
    "\n",
    "def sigmoid_derivatives(x):\n",
    "    return sigmoid(x) * (1-  sigmoid(x))"
   ]
  },
  {
   "cell_type": "code",
   "execution_count": 242,
   "metadata": {},
   "outputs": [],
   "source": [
    "def linear(x):\n",
    "    return x\n",
    "\n",
    "def linear_derivatives(x):\n",
    "    return 1"
   ]
  },
  {
   "cell_type": "code",
   "execution_count": 243,
   "metadata": {},
   "outputs": [],
   "source": [
    "def loss_function(prediction, target):\n",
    "    return 0.5 * np.power((prediction -  target), 2)\n",
    "\n",
    "def loss_function_derivatives(prediction, target):\n",
    "    return 2 * 0.5 *(prediction - target)"
   ]
  },
  {
   "cell_type": "code",
   "execution_count": 244,
   "metadata": {},
   "outputs": [],
   "source": [
    "# inisiasi variable\n",
    "i = np.array([[2]])\n",
    "\n",
    "wij = np.array([[0.25, 0.5, 0.75, 1]])\n",
    "bij = np.array([[1, 1, 1, 1]])\n",
    "\n",
    "wjk = np.array([[1, 0], [0.75, 0.25], [0.5, 0.5], [0.25, 0.75]])\n",
    "bjk = np.array([[1, 1]])\n",
    "\n",
    "wko = np.array([[1], [0.5]])\n",
    "bko = np.array([[1]])\n",
    "\n",
    "o = np.array([[3]])"
   ]
  },
  {
   "cell_type": "code",
   "execution_count": 245,
   "metadata": {},
   "outputs": [
    {
     "name": "stdout",
     "output_type": "stream",
     "text": [
      "[[ 1.5  2.   2.5  3. ]]\n",
      "[[ 1.5  2.   2.5  3. ]]\n"
     ]
    }
   ],
   "source": [
    "# forward pass input layer to hidden layer1\n",
    "jin = dot_product(i, wij, bij)\n",
    "jout = relu(jin)\n",
    "print(jin)\n",
    "print(jout)"
   ]
  },
  {
   "cell_type": "code",
   "execution_count": 246,
   "metadata": {},
   "outputs": [
    {
     "name": "stdout",
     "output_type": "stream",
     "text": [
      "[[ 6.  5.]]\n",
      "[[ 0.99752738  0.99330715]]\n"
     ]
    }
   ],
   "source": [
    "# forward pass hidden layer1 to hidden layer2\n",
    "kin = dot_product(jout, wjk, bjk)\n",
    "kout = sigmoid(kin)\n",
    "print(kin)\n",
    "print(kout)"
   ]
  },
  {
   "cell_type": "code",
   "execution_count": 247,
   "metadata": {},
   "outputs": [
    {
     "name": "stdout",
     "output_type": "stream",
     "text": [
      "[[ 2.49418095]]\n",
      "[[ 2.49418095]]\n"
     ]
    }
   ],
   "source": [
    "# forward pass hidden layer2 to output layer\n",
    "oin = dot_product(kout, wko, bko)\n",
    "oout = linear(oin)\n",
    "print(oin)\n",
    "print(oout)"
   ]
  },
  {
   "cell_type": "code",
   "execution_count": 248,
   "metadata": {},
   "outputs": [
    {
     "name": "stdout",
     "output_type": "stream",
     "text": [
      "[[ 0.12792645]]\n"
     ]
    }
   ],
   "source": [
    "# hitung loss\n",
    "loss = loss_function(oout, o)\n",
    "print(loss)"
   ]
  },
  {
   "cell_type": "code",
   "execution_count": 249,
   "metadata": {},
   "outputs": [],
   "source": [
    "# mulai back pass\n",
    "# back pass output to hidden layer1\n",
    "# chain rules\n",
    "# turunan_loss terhadap turunan_wko = turunan_loss terhadap turunan_oout * turunan_oout terhadap turunan_oin * turunan_oin terhadap turunan_wko"
   ]
  },
  {
   "cell_type": "code",
   "execution_count": 250,
   "metadata": {},
   "outputs": [
    {
     "data": {
      "text/plain": [
       "array([[-0.50581905]])"
      ]
     },
     "execution_count": 250,
     "metadata": {},
     "output_type": "execute_result"
    }
   ],
   "source": [
    "# hitung turunan loss terhadap turunan oout\n",
    "turunan_loss_oout = loss_function_derivatives(oout, o)\n",
    "turunan_loss_oout"
   ]
  },
  {
   "cell_type": "code",
   "execution_count": 251,
   "metadata": {},
   "outputs": [
    {
     "data": {
      "text/plain": [
       "1"
      ]
     },
     "execution_count": 251,
     "metadata": {},
     "output_type": "execute_result"
    }
   ],
   "source": [
    "# hitung turunan oout terhadap oin\n",
    "# oout == ooin\n",
    "turunan_oout_oin = linear_derivatives(oout)\n",
    "turunan_oout_oin"
   ]
  },
  {
   "cell_type": "code",
   "execution_count": 252,
   "metadata": {},
   "outputs": [
    {
     "data": {
      "text/plain": [
       "array([[ 0.99752738],\n",
       "       [ 0.99330715]])"
      ]
     },
     "execution_count": 252,
     "metadata": {},
     "output_type": "execute_result"
    }
   ],
   "source": [
    "# hitung turunan oin terhadap wko\n",
    "turunan_oin_wko = kout.T\n",
    "turunan_oin_wko"
   ]
  },
  {
   "cell_type": "code",
   "execution_count": 253,
   "metadata": {},
   "outputs": [
    {
     "data": {
      "text/plain": [
       "array([[-0.50456835],\n",
       "       [-0.50243368]])"
      ]
     },
     "execution_count": 253,
     "metadata": {},
     "output_type": "execute_result"
    }
   ],
   "source": [
    "# hitung turunan loss terhadap wko\n",
    "turunan_loss_wko = turunan_loss_oout * turunan_oout_oin * turunan_oin_wko\n",
    "turunan_loss_wko"
   ]
  },
  {
   "cell_type": "code",
   "execution_count": 254,
   "metadata": {},
   "outputs": [
    {
     "data": {
      "text/plain": [
       "array([[-0.50581905]])"
      ]
     },
     "execution_count": 254,
     "metadata": {},
     "output_type": "execute_result"
    }
   ],
   "source": [
    "# hitung turunan loss terhadap bo\n",
    "turunan_loss_bko = turunan_loss_oout * turunan_oout_oin * bko\n",
    "turunan_loss_bko"
   ]
  },
  {
   "cell_type": "code",
   "execution_count": 255,
   "metadata": {},
   "outputs": [
    {
     "data": {
      "text/plain": [
       "array([[ 1.12614209],\n",
       "       [ 0.62560842]])"
      ]
     },
     "execution_count": 255,
     "metadata": {},
     "output_type": "execute_result"
    }
   ],
   "source": [
    "# update variable wko\n",
    "turunan_wko = wko - (np.array([[0.25]]) * turunan_loss_wko)\n",
    "turunan_wko"
   ]
  },
  {
   "cell_type": "code",
   "execution_count": 256,
   "metadata": {},
   "outputs": [
    {
     "data": {
      "text/plain": [
       "array([[ 1.12645476]])"
      ]
     },
     "execution_count": 256,
     "metadata": {},
     "output_type": "execute_result"
    }
   ],
   "source": [
    "# update variable bko\n",
    "turunan_bko = bko - (np.array([[0.25]]) * turunan_loss_bko)\n",
    "turunan_bko"
   ]
  },
  {
   "cell_type": "code",
   "execution_count": 257,
   "metadata": {},
   "outputs": [],
   "source": [
    "# backpass hidden layer2 to hidden layer1\n",
    "# chain rules\n",
    "# turunan loss terhadap wjk = turunan loss terhadap turunan kout * turunan kout terhadap turunan kin * turunan kin terhadap turunan wjk"
   ]
  },
  {
   "cell_type": "code",
   "execution_count": 258,
   "metadata": {},
   "outputs": [
    {
     "data": {
      "text/plain": [
       "array([[-0.50456835, -0.25121684]])"
      ]
     },
     "execution_count": 258,
     "metadata": {},
     "output_type": "execute_result"
    }
   ],
   "source": [
    "# hitung turunana loss terhadap turunan kout\n",
    "# rumus\n",
    "turunan_loss_kout = (turunan_loss_oout * turunan_oout_oin * turunan_oin_wko * wko).T\n",
    "turunan_loss_kout"
   ]
  },
  {
   "cell_type": "code",
   "execution_count": 259,
   "metadata": {},
   "outputs": [
    {
     "data": {
      "text/plain": [
       "array([[ 0.00246651,  0.00664806]])"
      ]
     },
     "execution_count": 259,
     "metadata": {},
     "output_type": "execute_result"
    }
   ],
   "source": [
    "# hitung turunan kout terhadap turunan kin\n",
    "turunan_kout_kin = sigmoid_derivatives(kin)\n",
    "turunan_kout_kin"
   ]
  },
  {
   "cell_type": "code",
   "execution_count": 260,
   "metadata": {},
   "outputs": [
    {
     "data": {
      "text/plain": [
       "array([[ 1.5,  1.5],\n",
       "       [ 2. ,  2. ],\n",
       "       [ 2.5,  2.5],\n",
       "       [ 3. ,  3. ]])"
      ]
     },
     "execution_count": 260,
     "metadata": {},
     "output_type": "execute_result"
    }
   ],
   "source": [
    "# hitung turunan kin terhadap turunan wjk\n",
    "turunan_kin_wjk = np.concatenate((jout.T, jout.T), axis=1)\n",
    "turunan_kin_wjk"
   ]
  },
  {
   "cell_type": "code",
   "execution_count": 261,
   "metadata": {},
   "outputs": [
    {
     "data": {
      "text/plain": [
       "array([[-0.00186678, -0.00250516],\n",
       "       [-0.00248905, -0.00334021],\n",
       "       [-0.00311131, -0.00417526],\n",
       "       [-0.00373357, -0.00501031]])"
      ]
     },
     "execution_count": 261,
     "metadata": {},
     "output_type": "execute_result"
    }
   ],
   "source": [
    "# hitung turunan loss terhadap wjk\n",
    "turunan_loss_wjk = turunan_loss_kout * turunan_kout_kin * turunan_kin_wjk\n",
    "turunan_loss_wjk"
   ]
  },
  {
   "cell_type": "code",
   "execution_count": 262,
   "metadata": {},
   "outputs": [
    {
     "data": {
      "text/plain": [
       "array([[-0.00124452, -0.0016701 ]])"
      ]
     },
     "execution_count": 262,
     "metadata": {},
     "output_type": "execute_result"
    }
   ],
   "source": [
    "# hitung turunan loss terhadap bjk\n",
    "turunan_loss_bjk = turunan_loss_kout * turunan_kout_kin * bjk\n",
    "turunan_loss_bjk"
   ]
  },
  {
   "cell_type": "code",
   "execution_count": 263,
   "metadata": {},
   "outputs": [
    {
     "data": {
      "text/plain": [
       "array([[  1.00046670e+00,   6.26288917e-04],\n",
       "       [  7.50622261e-01,   2.50835052e-01],\n",
       "       [  5.00777827e-01,   5.01043815e-01],\n",
       "       [  2.50933392e-01,   7.51252578e-01]])"
      ]
     },
     "execution_count": 263,
     "metadata": {},
     "output_type": "execute_result"
    }
   ],
   "source": [
    "# update variable wjk\n",
    "turunan_wjk = wjk - (0.25 * turunan_loss_wjk)\n",
    "turunan_wjk"
   ]
  },
  {
   "cell_type": "code",
   "execution_count": 264,
   "metadata": {},
   "outputs": [
    {
     "data": {
      "text/plain": [
       "array([[ 1.00031113,  1.00041753]])"
      ]
     },
     "execution_count": 264,
     "metadata": {},
     "output_type": "execute_result"
    }
   ],
   "source": [
    "# update variable bjk\n",
    "turunan_bjk = bjk - (0.25 * turunan_loss_bjk)\n",
    "turunan_bjk"
   ]
  },
  {
   "cell_type": "code",
   "execution_count": 265,
   "metadata": {},
   "outputs": [],
   "source": [
    "# back pass hidden layer1 to input\n",
    "# chain rules\n",
    "# turunanan loss terhadap wij = turunan loss terhadap turunan jout * turunan jout terhadap turunan jin * turunan jin terhadap turunan wij"
   ]
  },
  {
   "cell_type": "code",
   "execution_count": 266,
   "metadata": {},
   "outputs": [
    {
     "data": {
      "text/plain": [
       "array([-0.02068855, -0.02759477, -0.03450601, -0.04142227])"
      ]
     },
     "execution_count": 266,
     "metadata": {},
     "output_type": "execute_result"
    }
   ],
   "source": [
    "# hitung turunan loss terhadap turunan jout\n",
    "turunan_loss_jout = np.sum(turunan_loss_kout) * np.sum(turunan_kout_kin) * np.sum(turunan_kin_wjk, axis=1) * np.sum(turunan_wjk, axis=1)\n",
    "turunan_loss_jout"
   ]
  },
  {
   "cell_type": "code",
   "execution_count": 268,
   "metadata": {},
   "outputs": [
    {
     "data": {
      "text/plain": [
       "array([[ 1.,  1.,  1.,  1.]])"
      ]
     },
     "execution_count": 268,
     "metadata": {},
     "output_type": "execute_result"
    }
   ],
   "source": [
    "# hitung turunan jout terhadap turunan jin\n",
    "turunan_jout_jin = relu_derivatives(jin)\n",
    "turunan_jout_jin"
   ]
  },
  {
   "cell_type": "code",
   "execution_count": 270,
   "metadata": {},
   "outputs": [
    {
     "data": {
      "text/plain": [
       "array([[2]])"
      ]
     },
     "execution_count": 270,
     "metadata": {},
     "output_type": "execute_result"
    }
   ],
   "source": [
    "# hitung turunan jin terhadap turunan wij\n",
    "turunan_jin_wij = i\n",
    "turunan_jin_wij"
   ]
  },
  {
   "cell_type": "code",
   "execution_count": 273,
   "metadata": {},
   "outputs": [
    {
     "data": {
      "text/plain": [
       "array([[-0.0413771 , -0.05518954, -0.06901203, -0.08284455]])"
      ]
     },
     "execution_count": 273,
     "metadata": {},
     "output_type": "execute_result"
    }
   ],
   "source": [
    "# hitung turunan loss terhadap turunan wij\n",
    "turunan_loss_wij = turunan_loss_jout * turunan_jout_jin * turunan_jin_wij\n",
    "turunan_loss_wij"
   ]
  },
  {
   "cell_type": "code",
   "execution_count": 274,
   "metadata": {},
   "outputs": [
    {
     "data": {
      "text/plain": [
       "array([[-0.02068855, -0.02759477, -0.03450601, -0.04142227]])"
      ]
     },
     "execution_count": 274,
     "metadata": {},
     "output_type": "execute_result"
    }
   ],
   "source": [
    "# hitung turunan loss terhadap turunan bij\n",
    "turunan_loss_bij = turunan_loss_jout * turunan_jout_jin * bij\n",
    "turunan_loss_bij"
   ]
  },
  {
   "cell_type": "code",
   "execution_count": 275,
   "metadata": {},
   "outputs": [
    {
     "data": {
      "text/plain": [
       "array([[ 0.26034427,  0.51379739,  0.76725301,  1.02071114]])"
      ]
     },
     "execution_count": 275,
     "metadata": {},
     "output_type": "execute_result"
    }
   ],
   "source": [
    "# update value wij\n",
    "turunan_wij = wij - (0.25 * turunan_loss_wij)\n",
    "turunan_wij"
   ]
  },
  {
   "cell_type": "code",
   "execution_count": 276,
   "metadata": {},
   "outputs": [
    {
     "data": {
      "text/plain": [
       "array([[ 1.00517214,  1.00689869,  1.0086265 ,  1.01035557]])"
      ]
     },
     "execution_count": 276,
     "metadata": {},
     "output_type": "execute_result"
    }
   ],
   "source": [
    "# update value bij\n",
    "turunan_bij = bij - (0.25 * turunan_loss_bij)\n",
    "turunan_bij"
   ]
  },
  {
   "cell_type": "code",
   "execution_count": 277,
   "metadata": {},
   "outputs": [
    {
     "data": {
      "text/plain": [
       "array([[ 0.25,  0.5 ,  0.75,  1.  ]])"
      ]
     },
     "execution_count": 277,
     "metadata": {},
     "output_type": "execute_result"
    }
   ],
   "source": [
    "# perbandingan new dengan old parameter\n",
    "# old paramter\n",
    "wij"
   ]
  },
  {
   "cell_type": "code",
   "execution_count": 278,
   "metadata": {},
   "outputs": [
    {
     "data": {
      "text/plain": [
       "array([[1, 1, 1, 1]])"
      ]
     },
     "execution_count": 278,
     "metadata": {},
     "output_type": "execute_result"
    }
   ],
   "source": [
    "bij"
   ]
  },
  {
   "cell_type": "code",
   "execution_count": 279,
   "metadata": {},
   "outputs": [
    {
     "data": {
      "text/plain": [
       "array([[ 1.  ,  0.  ],\n",
       "       [ 0.75,  0.25],\n",
       "       [ 0.5 ,  0.5 ],\n",
       "       [ 0.25,  0.75]])"
      ]
     },
     "execution_count": 279,
     "metadata": {},
     "output_type": "execute_result"
    }
   ],
   "source": [
    "wjk"
   ]
  },
  {
   "cell_type": "code",
   "execution_count": 280,
   "metadata": {},
   "outputs": [
    {
     "data": {
      "text/plain": [
       "array([[1, 1]])"
      ]
     },
     "execution_count": 280,
     "metadata": {},
     "output_type": "execute_result"
    }
   ],
   "source": [
    "bjk"
   ]
  },
  {
   "cell_type": "code",
   "execution_count": 281,
   "metadata": {},
   "outputs": [
    {
     "data": {
      "text/plain": [
       "array([[ 1. ],\n",
       "       [ 0.5]])"
      ]
     },
     "execution_count": 281,
     "metadata": {},
     "output_type": "execute_result"
    }
   ],
   "source": [
    "wko"
   ]
  },
  {
   "cell_type": "code",
   "execution_count": 282,
   "metadata": {},
   "outputs": [
    {
     "data": {
      "text/plain": [
       "array([[1]])"
      ]
     },
     "execution_count": 282,
     "metadata": {},
     "output_type": "execute_result"
    }
   ],
   "source": [
    "bko"
   ]
  },
  {
   "cell_type": "code",
   "execution_count": 283,
   "metadata": {},
   "outputs": [
    {
     "data": {
      "text/plain": [
       "array([[ 0.26034427,  0.51379739,  0.76725301,  1.02071114]])"
      ]
     },
     "execution_count": 283,
     "metadata": {},
     "output_type": "execute_result"
    }
   ],
   "source": [
    "# new parameter\n",
    "turunan_wij"
   ]
  },
  {
   "cell_type": "code",
   "execution_count": 284,
   "metadata": {},
   "outputs": [
    {
     "data": {
      "text/plain": [
       "array([[ 1.00517214,  1.00689869,  1.0086265 ,  1.01035557]])"
      ]
     },
     "execution_count": 284,
     "metadata": {},
     "output_type": "execute_result"
    }
   ],
   "source": [
    "turunan_bij"
   ]
  },
  {
   "cell_type": "code",
   "execution_count": 285,
   "metadata": {},
   "outputs": [
    {
     "data": {
      "text/plain": [
       "array([[  1.00046670e+00,   6.26288917e-04],\n",
       "       [  7.50622261e-01,   2.50835052e-01],\n",
       "       [  5.00777827e-01,   5.01043815e-01],\n",
       "       [  2.50933392e-01,   7.51252578e-01]])"
      ]
     },
     "execution_count": 285,
     "metadata": {},
     "output_type": "execute_result"
    }
   ],
   "source": [
    "turunan_wjk"
   ]
  },
  {
   "cell_type": "code",
   "execution_count": 286,
   "metadata": {},
   "outputs": [
    {
     "data": {
      "text/plain": [
       "array([[ 1.00031113,  1.00041753]])"
      ]
     },
     "execution_count": 286,
     "metadata": {},
     "output_type": "execute_result"
    }
   ],
   "source": [
    "turunan_bjk"
   ]
  },
  {
   "cell_type": "code",
   "execution_count": 287,
   "metadata": {},
   "outputs": [
    {
     "data": {
      "text/plain": [
       "array([[ 1.12614209],\n",
       "       [ 0.62560842]])"
      ]
     },
     "execution_count": 287,
     "metadata": {},
     "output_type": "execute_result"
    }
   ],
   "source": [
    "turunan_wko"
   ]
  },
  {
   "cell_type": "code",
   "execution_count": 288,
   "metadata": {},
   "outputs": [
    {
     "data": {
      "text/plain": [
       "array([[ 1.12645476]])"
      ]
     },
     "execution_count": 288,
     "metadata": {},
     "output_type": "execute_result"
    }
   ],
   "source": [
    "turunan_bko"
   ]
  },
  {
   "cell_type": "code",
   "execution_count": null,
   "metadata": {},
   "outputs": [],
   "source": []
  }
 ],
 "metadata": {
  "kernelspec": {
   "display_name": "Python 3",
   "language": "python",
   "name": "python3"
  },
  "language_info": {
   "codemirror_mode": {
    "name": "ipython",
    "version": 3
   },
   "file_extension": ".py",
   "mimetype": "text/x-python",
   "name": "python",
   "nbconvert_exporter": "python",
   "pygments_lexer": "ipython3",
   "version": "3.6.5"
  }
 },
 "nbformat": 4,
 "nbformat_minor": 2
}
